{
 "cells": [
  {
   "cell_type": "markdown",
   "id": "478739c0",
   "metadata": {},
   "source": [
    "# System rekomendacji filmów na podstawie bazy dokumentowej w MongoDB\n",
    "\n",
    "**Autor:** `Wiktoria Dawidczyk`  \n",
    "**Data:** `czerwiec 2025`"
   ]
  },
  {
   "cell_type": "markdown",
   "id": "cbc1b781",
   "metadata": {},
   "source": [
    "## 1. Wstęp i cel projektu\n",
    "\n",
    "Celem niniejszego projektu było zaprojektowanie, implementacja i porównanie różnych modeli systemu rekomendacji filmów. Projekt obejmuje pełen cykl życia produktu data science: od analizy i przygotowania danych, przez budowę modeli o rosnącej złożoności, aż po wdrożenie finalnych wyników w chmurowej bazie danych NoSQL.\n",
    "\n",
    "W projekcie wykorzystano następujące techniki:\n",
    "* **Eksploracyjna Analiza Danych (EDA)** w celu zrozumienia charakterystyki zbioru.\n",
    "* **Filtrowanie kolaboratywne (Collaborative Filtering)**, model typu user-item, bazujący na ocenach użytkowników.\n",
    "* **Filtrowanie oparte na treści (Content-Based Filtering)** w dwóch wariantach:\n",
    "    1.  Podstawowym, wykorzystującym gatunki i tagi filmowe.\n",
    "    2.  Zaawansowanym, wzbogaconym o dane z zewnętrznego API (reżyser, obsada, słowa kluczowe).\n",
    "* **Przetwarzanie języka naturalnego (NLP)** z użyciem wektoryzacji TF-IDF.\n",
    "* Integrację z chmurową bazą danych **MongoDB Atlas** w celu przechowywania przetworzonych wyników.\n",
    "\n",
    "Wykorzystany w projekcie zbiór danych to **MovieLens Latest Small**, udostępniony przez GroupLens Research. Został on opracowany na potrzeby rozwoju systemów rekomendacyjnych. Dane zbierano na przestrzeni ponad 20 lat, a do obecnego zbioru wybrano 610 losowych, zanonimizowanych użytkowników, z których każdy ocenił **co najmniej 20 filmów**.\n",
    "\n",
    "Zbiór składa się z czterech plików w formacie CSV, powiązanych ze sobą za pomocą identyfikatorów `userId` oraz `movieId`:\n",
    "\n",
    "* **`movies.csv`**: Zawiera informacje o filmach. Kluczowe kolumny to `title` (tytuł z rokiem produkcji) oraz `genres` (gatunki przypisane do filmu, np. Action, Comedy, Drama).\n",
    "* **`ratings.csv`**: Zawiera ponad 100,000 ocen wystawionych przez użytkowników. Kolumna `rating` przyjmuje wartości w skali od 0.5 do 5.0 z krokiem co 0.5, a `timestamp` określa czas wystawienia oceny.\n",
    "* **`tags.csv`**: Przechowuje tagi nadane filmom przez użytkowników. Kolumna `tag` to krótka fraza opisująca film, a `timestamp` określa czas jej dodania.\n",
    "* **`links.csv`**: Umożliwia połączenie danych z zewnętrznymi bazami filmowymi poprzez kolumny `imdbId` (dla serwisu IMDb) oraz `tmdbId` (dla The Movie Database)."
   ]
  },
  {
   "cell_type": "code",
   "execution_count": 1,
   "id": "94cf05c5",
   "metadata": {},
   "outputs": [
    {
     "name": "stdout",
     "output_type": "stream",
     "text": [
      "Wszystkie niezbędne biblioteki zostały zaimportowane.\n"
     ]
    }
   ],
   "source": [
    "# Biblioteki do manipulacji danymi i ich wizualizacji\n",
    "import pandas as pd\n",
    "import numpy as np\n",
    "import math\n",
    "import matplotlib.pyplot as plt\n",
    "import seaborn as sns\n",
    "\n",
    "# Biblioteki do budowy modelu\n",
    "from scipy.sparse import csr_matrix\n",
    "from sklearn.metrics.pairwise import cosine_similarity\n",
    "from sklearn.feature_extraction.text import TfidfVectorizer\n",
    "\n",
    "# Biblioteki do integracji z API i bazą danych\n",
    "import requests\n",
    "import time\n",
    "from pymongo import MongoClient\n",
    "import urllib.parse\n",
    "import os\n",
    "from dotenv import load_dotenv\n",
    "\n",
    "print(\"Wszystkie niezbędne biblioteki zostały zaimportowane.\")"
   ]
  },
  {
   "cell_type": "markdown",
   "id": "c0c1e131",
   "metadata": {},
   "source": [
    "## 2. Wczytanie i Eksploracyjna Analiza Danych (EDA)\n",
    "\n",
    "W tym kroku wczytujemy wszystkie niezbędne pliki CSV i dokonujemy podstawowej analizy w celu zapoznania się ze strukturą i jakością danych. Istotnym elementem tej fazy jest również wizualizacja danych, która pozwala na głębsze zrozumienie rozkładu danych i zachowań użytkowników."
   ]
  },
  {
   "cell_type": "markdown",
   "id": "e37b58f5",
   "metadata": {},
   "source": [
    "### 2.1. EDA"
   ]
  },
  {
   "cell_type": "code",
   "execution_count": 2,
   "id": "ff53eb60",
   "metadata": {},
   "outputs": [
    {
     "name": "stdout",
     "output_type": "stream",
     "text": [
      "Dane zostały pomyślnie wczytane.\n",
      "\n",
      "Informacje o 'movies_df':\n",
      "<class 'pandas.core.frame.DataFrame'>\n",
      "RangeIndex: 9742 entries, 0 to 9741\n",
      "Data columns (total 3 columns):\n",
      " #   Column   Non-Null Count  Dtype \n",
      "---  ------   --------------  ----- \n",
      " 0   movieId  9742 non-null   int64 \n",
      " 1   title    9742 non-null   object\n",
      " 2   genres   9742 non-null   object\n",
      "dtypes: int64(1), object(2)\n",
      "memory usage: 228.5+ KB\n",
      "\n",
      "Informacje o 'ratings_df':\n",
      "<class 'pandas.core.frame.DataFrame'>\n",
      "RangeIndex: 100836 entries, 0 to 100835\n",
      "Data columns (total 4 columns):\n",
      " #   Column     Non-Null Count   Dtype  \n",
      "---  ------     --------------   -----  \n",
      " 0   userId     100836 non-null  int64  \n",
      " 1   movieId    100836 non-null  int64  \n",
      " 2   rating     100836 non-null  float64\n",
      " 3   timestamp  100836 non-null  int64  \n",
      "dtypes: float64(1), int64(3)\n",
      "memory usage: 3.1 MB\n"
     ]
    }
   ],
   "source": [
    "try:\n",
    "    movies_df = pd.read_csv(\"data/movies.csv\")\n",
    "    ratings_df = pd.read_csv(\"data/ratings.csv\")\n",
    "    tags_df = pd.read_csv(\"data/tags.csv\")\n",
    "    links_df = pd.read_csv(\"data/links.csv\")\n",
    "    print(\"Dane zostały pomyślnie wczytane.\")\n",
    "except FileNotFoundError as e:\n",
    "    print(f\"Błąd wczytywania plików: {e}. Upewnij się, że pliki CSV znajdują się w folderze 'data'.\")\n",
    "\n",
    "print(\"\\nInformacje o 'movies_df':\")\n",
    "movies_df.info()\n",
    "\n",
    "print(\"\\nInformacje o 'ratings_df':\")\n",
    "ratings_df.info()"
   ]
  },
  {
   "cell_type": "code",
   "execution_count": 3,
   "id": "6f6b3ea0",
   "metadata": {},
   "outputs": [
    {
     "name": "stdout",
     "output_type": "stream",
     "text": [
      "   userId  movieId  rating   timestamp             title  \\\n",
      "0       1        1     4.0   964982703  Toy Story (1995)   \n",
      "1       5        1     4.0   847434962  Toy Story (1995)   \n",
      "2       7        1     4.5  1106635946  Toy Story (1995)   \n",
      "3      15        1     2.5  1510577970  Toy Story (1995)   \n",
      "4      17        1     4.5  1305696483  Toy Story (1995)   \n",
      "\n",
      "                                        genres  \n",
      "0  Adventure|Animation|Children|Comedy|Fantasy  \n",
      "1  Adventure|Animation|Children|Comedy|Fantasy  \n",
      "2  Adventure|Animation|Children|Comedy|Fantasy  \n",
      "3  Adventure|Animation|Children|Comedy|Fantasy  \n",
      "4  Adventure|Animation|Children|Comedy|Fantasy  \n"
     ]
    }
   ],
   "source": [
    "merged_df = pd.merge(ratings_df, movies_df, on='movieId')\n",
    "\n",
    "print(merged_df.head())"
   ]
  },
  {
   "cell_type": "markdown",
   "id": "e4be681f",
   "metadata": {},
   "source": [
    "**Wnioski z EDA:**\n",
    "* Zbiory `movies` i `ratings` są kompletne i nie zawierają brakujących wartości w kluczowych kolumnach.\n",
    "* Dane o ocenach (`ratings`) zawierają ponad 100,000 wpisów od 610 użytkowników.\n",
    "* Zbiór filmów (`movies`) liczy 9742 unikalne pozycje.\n",
    "* Dane są czyste i gotowe do dalszego przetwarzania."
   ]
  },
  {
   "cell_type": "markdown",
   "id": "eebf67e9",
   "metadata": {},
   "source": [
    "### 2.2. Wizualizacja danych\n",
    "\n",
    "#### Rozkład ocen filmowych\n",
    "\n",
    "W celu lepszego zrozumienia zachowań użytkowników, pierwszym krokiem wizualizacji jest analiza rozkładu wystawionych ocen."
   ]
  },
  {
   "cell_type": "code",
   "execution_count": 4,
   "id": "d23a7a42",
   "metadata": {},
   "outputs": [
    {
     "data": {
      "image/png": "[encoded data removed]",
      "text/plain": [
       "<Figure size 1000x600 with 1 Axes>"
      ]
     },
     "metadata": {},
     "output_type": "display_data"
    }
   ],
   "source": [
    "sns.set_style('whitegrid')\n",
    "plt.figure(figsize=(10, 6))\n",
    "sns.countplot(x='rating', data=ratings_df, palette='viridis')\n",
    "plt.title('Rozkład ocen filmowych w zbiorze danych')\n",
    "plt.xlabel('Ocena')\n",
    "plt.ylabel('Liczba wystąpień')\n",
    "plt.show()"
   ]
  },
  {
   "cell_type": "markdown",
   "id": "ca6deb53",
   "metadata": {},
   "source": [
    "Powyższy wykres słupkowy ilustruje, że użytkownicy najchętniej przyznają oceny pełne (3.0, 4.0, 5.0), ze szczególnym wskazaniem na **4.0**. Oceny połówkowe występują rzadziej. Obserwujemy również wyraźną tendencję do pozytywnego oceniania – liczba ocen wysokich (3.5-5.0) znacząco przewyższa liczbę ocen niskich. Rozkład jest lewoskośny, co jest typowe dla danych tego rodzaju i świadczy o tym, że użytkownicy chętniej oceniają filmy, które im się podobały."
   ]
  },
  {
   "cell_type": "markdown",
   "id": "b67560c8",
   "metadata": {},
   "source": [
    "#### Rozkład liczby ocen przypadających na film\n",
    "\n",
    "Kolejnym kluczowym aspektem jest analiza popularności filmów, mierzona liczbą otrzymanych ocen. Pozwala to zidentyfikować zarówno hity, jak i filmy niszowe."
   ]
  },
  {
   "cell_type": "code",
   "execution_count": 5,
   "id": "4d6ec84f",
   "metadata": {},
   "outputs": [
    {
     "data": {
      "image/png": "[encoded data removed]",
      "text/plain": [
       "<Figure size 1000x600 with 1 Axes>"
      ]
     },
     "metadata": {},
     "output_type": "display_data"
    }
   ],
   "source": [
    "rating_counts = ratings_df.groupby('movieId')['rating'].count()\n",
    "\n",
    "plt.figure(figsize=(10, 6))\n",
    "rating_counts.hist(bins=70)\n",
    "plt.title('Rozkład liczby ocen przypadających na film')\n",
    "plt.xlabel('Liczba ocen')\n",
    "plt.ylabel('Liczba filmów')\n",
    "plt.xlim(0, 200)\n",
    "plt.show()"
   ]
  },
  {
   "cell_type": "markdown",
   "id": "c9c1f8ad",
   "metadata": {},
   "source": [
    "Histogram przedstawia tzw. **rozkład długiego ogona (*long-tail distribution*)**. Oznacza to, że niewielka liczba filmów cieszy się ogromną popularnością (otrzymuje setki ocen), podczas gdy zdecydowana większość filmów w bazie danych posiada bardzo niewiele ocen (wiele z nich mniej niż 10).\n",
    "\n",
    "Wniosek ten jest kluczowy dla dalszego modelowania – przy budowie systemów rekomendacji opartych na popularności lub filtrowaniu kolaboracyjnym konieczne będzie wprowadzenie **progu minimalnej liczby ocen**. Pozwoli to uniknąć polecania filmów, których wysoka średnia wynika z niewielkiej, statystycznie niereprezentatywnej liczby opinii."
   ]
  },
  {
   "cell_type": "markdown",
   "id": "a9c2e1a4",
   "metadata": {},
   "source": [
    "## 3. Budowa modeli rekomendacyjnych\n",
    "\n",
    "W tej sekcji zaimplementowano dwa główne podejścia do systemów rekomendacji.\n",
    "\n",
    "### 3.1. Model I: Filtrowanie kolaboratywne (Collaborative Filtering)\n",
    "\n",
    "Model ten bazuje na założeniu, że użytkownicy, którzy zgadzali się w przeszłości (podobne oceny dla tych samych filmów), będą zgadzać się również w przyszłości. Rekomendacje generowane są na podstawie gustów \"podobnych\" użytkowników.<br>\n",
    "Kluczowym założeniem przed zbudowaniem tego modelu jest odfiltrowanie filmów, które posiadają niewielką liczbę ocen. Pozwala to na zwiększenie wiarygodności rekomendacji oraz na optymalizację wydajności obliczeń, ponieważ macierz film-użytkownik staje się mniejsza. W tym projekcie przyjęto próg **minimum 50 ocen**, aby uwzględnić tylko te filmy, których popularność jest statystycznie istotna."
   ]
  },
  {
   "cell_type": "code",
   "execution_count": 6,
   "id": "b79799fd",
   "metadata": {},
   "outputs": [
    {
     "name": "stdout",
     "output_type": "stream",
     "text": [
      "Model filtrowania kolaboracyjnego został zbudowany.\n"
     ]
    }
   ],
   "source": [
    "merged_ratings_movies_df = pd.merge(ratings_df, movies_df, on='movieId')\n",
    "\n",
    "average_ratings = merged_ratings_movies_df.groupby('title')['rating'].mean()\n",
    "rating_counts = merged_ratings_movies_df.groupby('title')['rating'].count()\n",
    "\n",
    "ratings_summary_df = pd.DataFrame(average_ratings)\n",
    "ratings_summary_df.rename(columns={'rating': 'average_rating'}, inplace=True)\n",
    "ratings_summary_df['rating_count'] = rating_counts\n",
    "\n",
    "# Utworzenie macierzy film-użytkownik (user-item matrix) dla popularnych filmów\n",
    "popular_movies_titles = ratings_summary_df[ratings_summary_df['rating_count'] >= 50].index\n",
    "filtered_df = merged_ratings_movies_df[merged_ratings_movies_df['title'].isin(popular_movies_titles)]\n",
    "movie_pivot_table = filtered_df.pivot_table(index='title', columns='userId', values='rating').fillna(0)\n",
    "\n",
    "# Budowa macierzy podobieństw\n",
    "movie_sparse_matrix = csr_matrix(movie_pivot_table.values)\n",
    "collaborative_similarity_matrix = cosine_similarity(movie_sparse_matrix)\n",
    "collaborative_similar_movies_df = pd.DataFrame(collaborative_similarity_matrix, \n",
    "                                               index=movie_pivot_table.index, \n",
    "                                               columns=movie_pivot_table.index)\n",
    "\n",
    "print(\"Model filtrowania kolaboracyjnego został zbudowany.\")"
   ]
  },
  {
   "cell_type": "markdown",
   "id": "f50c3214",
   "metadata": {},
   "source": [
    "### 3.2. Model II: Filtrowanie oparte na treści (Content-Based Filtering)\n",
    "\n",
    "Model ten rekomenduje filmy na podstawie ich wewnętrznych atrybutów (\"DNA\" filmu). Został on zaimplementowany w wersji zaawansowanej, która łączy gatunki filmowe, tagi użytkowników oraz dane o obsadzie i reżyserze pobrane z zewnętrznego API (TMDb).\n",
    "\n",
    "Proces budowy modelu został zaimplementowany w wersji zaawansowanej i podzielony na następujące etapy:\n",
    "\n",
    "**Etap 1: Wzbogacanie danych z zewnętrznego API**\n",
    "* Dane z pliku `links.csv` zostały wykorzystane do pozyskania identyfikatorów `tmdbId` dla każdego filmu.\n",
    "* Następnie, za pomocą zapytań do API serwisu The Movie Database (TMDb), dla każdego filmu pobrano dodatkowe metadane: nazwisko reżysera, listę trzech głównych aktorów oraz tematyczne słowa kluczowe.\n",
    "* Jest to operacja wejścia-wyjścia (I/O) intensywnie korzystająca z sieci, co czyni ją najdłuższym etapem całego procesu.\n",
    "\n",
    "**Etap 2: Buforowanie wyników (Caching)**\n",
    "* Aby uniknąć wielokrotnego, czasochłonnego pobierania danych z API przy każdym uruchomieniu notatnika, zaimplementowano mechanizm buforowania.\n",
    "* Przy pierwszym uruchomieniu, wzbogacona o dane z API tabela jest zapisywana na dysku lokalnym w pliku `data/movies_enriched_with_api.csv`.\n",
    "* Przy każdym kolejnym uruchomieniu, skrypt sprawdza istnienie tego pliku. Jeśli plik istnieje, dane są błyskawicznie wczytywane z dysku, a czasochłonny krok zapytań do API jest pomijany.\n",
    "\n",
    "**Etap 3: Inżynieria cech - tworzenie \"Mega Zupy Metadanych\"**\n",
    "* Wszystkie zebrane atrybuty tekstowe – `genres` (gatunki), `tags` (tagi użytkowników), `director` (reżyser), `cast` (obsada) i `keywords` (słowa kluczowe z API) – zostały połączone w jeden, długi ciąg tekstowy dla każdego filmu.\n",
    "* Ten zagregowany tekst, nazwany \"Mega Zupą Metadanych\", stanowi kompletne, tekstowe \"DNA\" filmu, na podstawie którego będzie oceniane podobieństwo.\n",
    "\n",
    "**Etap 4: Wektoryzacja i budowa modelu podobieństwa**\n",
    "* \"Mega Zupa Metadanych\" została przekształcona w macierz numeryczną za pomocą wektoryzatora **TF-IDF (Term Frequency-Inverse Document Frequency)**. Technika ta przypisuje wagi poszczególnym słowom, promując te, które są ważne dla danego filmu, a jednocześnie rzadkie w całym zbiorze.\n",
    "* Na tak przygotowanej macierzy cech obliczono **podobieństwo cosinusowe** między wszystkimi parami filmów, tworząc finalną macierz podobieństw, która jest podstawą do generowania rekomendacji."
   ]
  },
  {
   "cell_type": "code",
   "execution_count": 8,
   "id": "b977d932",
   "metadata": {},
   "outputs": [
    {
     "name": "stdout",
     "output_type": "stream",
     "text": [
      "Wzbogacony plik nie istnieje. Uruchamiam proces pobierania danych z API...\n",
      "Pobieranie danych z API zakończone.\n",
      "Zapisuję wzbogacone dane do pliku: 'data/movies_enriched_with_api.csv'\n",
      "Zapisano pomyślnie.\n"
     ]
    },
    {
     "data": {
      "text/html": [
       "<div>\n",
       "<style scoped>\n",
       "    .dataframe tbody tr th:only-of-type {\n",
       "        vertical-align: middle;\n",
       "    }\n",
       "\n",
       "    .dataframe tbody tr th {\n",
       "        vertical-align: top;\n",
       "    }\n",
       "\n",
       "    .dataframe thead th {\n",
       "        text-align: right;\n",
       "    }\n",
       "</style>\n",
       "<table border=\"1\" class=\"dataframe\">\n",
       "  <thead>\n",
       "    <tr style=\"text-align: right;\">\n",
       "      <th></th>\n",
       "      <th>movieId</th>\n",
       "      <th>title</th>\n",
       "      <th>genres</th>\n",
       "      <th>tag</th>\n",
       "      <th>imdbId</th>\n",
       "      <th>tmdbId</th>\n",
       "      <th>director</th>\n",
       "      <th>cast</th>\n",
       "      <th>keywords</th>\n",
       "    </tr>\n",
       "  </thead>\n",
       "  <tbody>\n",
       "    <tr>\n",
       "      <th>0</th>\n",
       "      <td>1</td>\n",
       "      <td>Toy Story (1995)</td>\n",
       "      <td>Adventure|Animation|Children|Comedy|Fantasy</td>\n",
       "      <td>pixar pixar fun</td>\n",
       "      <td>114709</td>\n",
       "      <td>862.0</td>\n",
       "      <td>johnlasseter</td>\n",
       "      <td>[tomhanks, timallen, donrickles]</td>\n",
       "      <td>[rescue, friendship, mission, jealousy, villai...</td>\n",
       "    </tr>\n",
       "    <tr>\n",
       "      <th>1</th>\n",
       "      <td>2</td>\n",
       "      <td>Jumanji (1995)</td>\n",
       "      <td>Adventure|Children|Fantasy</td>\n",
       "      <td>fantasy magicboardgame robinwilliams game</td>\n",
       "      <td>113497</td>\n",
       "      <td>8844.0</td>\n",
       "      <td>joejohnston</td>\n",
       "      <td>[robinwilliams, kirstendunst, bradleypierce]</td>\n",
       "      <td>[giantinsect, boardgame, disappearance, jungle...</td>\n",
       "    </tr>\n",
       "    <tr>\n",
       "      <th>2</th>\n",
       "      <td>3</td>\n",
       "      <td>Grumpier Old Men (1995)</td>\n",
       "      <td>Comedy|Romance</td>\n",
       "      <td>moldy old</td>\n",
       "      <td>113228</td>\n",
       "      <td>15602.0</td>\n",
       "      <td>howarddeutch</td>\n",
       "      <td>[waltermatthau, jacklemmon, ann-margret]</td>\n",
       "      <td>[fishing, sequel, oldman, bestfriend, wedding,...</td>\n",
       "    </tr>\n",
       "    <tr>\n",
       "      <th>3</th>\n",
       "      <td>4</td>\n",
       "      <td>Waiting to Exhale (1995)</td>\n",
       "      <td>Comedy|Drama|Romance</td>\n",
       "      <td>NaN</td>\n",
       "      <td>114885</td>\n",
       "      <td>31357.0</td>\n",
       "      <td>forestwhitaker</td>\n",
       "      <td>[whitneyhouston, angelabassett, lorettadevine]</td>\n",
       "      <td>[basedonnovelorbook, singlemother, divorce, an...</td>\n",
       "    </tr>\n",
       "    <tr>\n",
       "      <th>4</th>\n",
       "      <td>5</td>\n",
       "      <td>Father of the Bride Part II (1995)</td>\n",
       "      <td>Comedy</td>\n",
       "      <td>pregnancy remake</td>\n",
       "      <td>113041</td>\n",
       "      <td>11862.0</td>\n",
       "      <td>charlesshyer</td>\n",
       "      <td>[stevemartin, dianekeaton, martinshort]</td>\n",
       "      <td>[daughter, baby, parentchildrelationship, midl...</td>\n",
       "    </tr>\n",
       "  </tbody>\n",
       "</table>\n",
       "</div>"
      ],
      "text/plain": [
       "   movieId                               title  \\\n",
       "0        1                    Toy Story (1995)   \n",
       "1        2                      Jumanji (1995)   \n",
       "2        3             Grumpier Old Men (1995)   \n",
       "3        4            Waiting to Exhale (1995)   \n",
       "4        5  Father of the Bride Part II (1995)   \n",
       "\n",
       "                                        genres  \\\n",
       "0  Adventure|Animation|Children|Comedy|Fantasy   \n",
       "1                   Adventure|Children|Fantasy   \n",
       "2                               Comedy|Romance   \n",
       "3                         Comedy|Drama|Romance   \n",
       "4                                       Comedy   \n",
       "\n",
       "                                         tag  imdbId   tmdbId        director  \\\n",
       "0                            pixar pixar fun  114709    862.0    johnlasseter   \n",
       "1  fantasy magicboardgame robinwilliams game  113497   8844.0     joejohnston   \n",
       "2                                  moldy old  113228  15602.0    howarddeutch   \n",
       "3                                        NaN  114885  31357.0  forestwhitaker   \n",
       "4                           pregnancy remake  113041  11862.0    charlesshyer   \n",
       "\n",
       "                                             cast  \\\n",
       "0                [tomhanks, timallen, donrickles]   \n",
       "1    [robinwilliams, kirstendunst, bradleypierce]   \n",
       "2        [waltermatthau, jacklemmon, ann-margret]   \n",
       "3  [whitneyhouston, angelabassett, lorettadevine]   \n",
       "4         [stevemartin, dianekeaton, martinshort]   \n",
       "\n",
       "                                            keywords  \n",
       "0  [rescue, friendship, mission, jealousy, villai...  \n",
       "1  [giantinsect, boardgame, disappearance, jungle...  \n",
       "2  [fishing, sequel, oldman, bestfriend, wedding,...  \n",
       "3  [basedonnovelorbook, singlemother, divorce, an...  \n",
       "4  [daughter, baby, parentchildrelationship, midl...  "
      ]
     },
     "metadata": {},
     "output_type": "display_data"
    }
   ],
   "source": [
    "ENRICHED_DATA_FILE = 'data/movies_enriched_with_api.csv'\n",
    "load_dotenv()\n",
    "API_KEY = os.getenv('API_KEY')\n",
    "\n",
    "if not API_KEY:\n",
    "    print(\"BŁĄD: Nie znaleziono klucza API_KEY w pliku .env!\")\n",
    "else:\n",
    "    print(\"Klucz API został pomyślnie wczytany.\")\n",
    "\n",
    "def get_movie_details(tmdb_id, api_key):\n",
    "    if tmdb_id is None or math.isnan(float(tmdb_id)):\n",
    "        return None, [], []\n",
    "    url = f\"https://api.themoviedb.org/3/movie/{int(tmdb_id)}?api_key={api_key}&append_to_response=credits,keywords\"\n",
    "    try:\n",
    "        response = requests.get(url)\n",
    "        response.raise_for_status()\n",
    "        data = response.json()\n",
    "        director = next((member['name'].lower().replace(' ', '') for member in data['credits']['crew'] if member['job'] == 'Director'), '')\n",
    "        cast = [actor['name'].lower().replace(' ', '') for actor in data['credits']['cast'][:3]]\n",
    "        keywords = [keyword['name'].lower().replace(' ', '') for keyword in data['keywords']['keywords']]\n",
    "        return director, cast, keywords\n",
    "    except (requests.exceptions.RequestException, KeyError):\n",
    "        return None, [], []\n",
    "\n",
    "if os.path.exists(ENRICHED_DATA_FILE):\n",
    "    print(f\"Znaleziono wzbogacony plik. Wczytuję dane z '{ENRICHED_DATA_FILE}'...\")\n",
    "    movies_with_links_df = pd.read_csv(ENRICHED_DATA_FILE)\n",
    "    print(\"Dane wczytano pomyślnie.\")\n",
    "    \n",
    "else:\n",
    "    print(\"Wzbogacony plik nie istnieje. Uruchamiam proces pobierania danych z API...\")\n",
    "\n",
    "    tags_df['tag'] = tags_df['tag'].str.lower().str.replace(' ', '')\n",
    "    movie_tags = tags_df.groupby('movieId')['tag'].apply(lambda x: ' '.join(x)).reset_index()\n",
    "    movies_with_tags_df = pd.merge(movies_df, movie_tags, on='movieId', how='left')\n",
    "    movies_with_links_df = pd.merge(movies_with_tags_df, links_df, on='movieId', how='left')\n",
    "    movies_with_links_df.drop_duplicates(subset='title', keep='first', inplace=True)\n",
    "    \n",
    "    details_list_full = []\n",
    "    for tmdb_id in movies_with_links_df['tmdbId']:\n",
    "        details_list_full.append(get_movie_details(tmdb_id, API_KEY))\n",
    "        time.sleep(0.1) \n",
    "    \n",
    "    movies_with_links_df[['director', 'cast', 'keywords']] = pd.DataFrame(details_list_full, \n",
    "                                                                          index=movies_with_links_df.index)\n",
    "    print(\"Pobieranie danych z API zakończone.\")\n",
    "\n",
    "    print(f\"Zapisuję wzbogacone dane do pliku: '{ENRICHED_DATA_FILE}'\")\n",
    "    movies_with_links_df.to_csv(ENRICHED_DATA_FILE, index=False)\n",
    "    print(\"Zapisano pomyślnie.\")\n",
    "\n",
    "display(movies_with_links_df.head())"
   ]
  },
  {
   "cell_type": "code",
   "execution_count": 10,
   "id": "f3b981ef",
   "metadata": {},
   "outputs": [
    {
     "name": "stdout",
     "output_type": "stream",
     "text": [
      "Zaawansowany model oparty na treści został zbudowany.\n"
     ]
    }
   ],
   "source": [
    "# Utworzenie \"Mega Zupy\"\n",
    "for col in ['director', 'cast', 'keywords']:\n",
    "    if col not in movies_with_links_df.columns:\n",
    "        movies_with_links_df[col] = np.nan\n",
    "\n",
    "movies_with_links_df['genres'] = movies_with_links_df['genres'].str.replace('|', ' ', regex=False).fillna('')\n",
    "movies_with_links_df['tag'] = movies_with_links_df['tag'].fillna('')\n",
    "movies_with_links_df['director'] = movies_with_links_df['director'].fillna('')\n",
    "movies_with_links_df['cast'] = movies_with_links_df['cast'].apply(lambda x: ' '.join(x) if isinstance(x, list) else '').fillna('')\n",
    "movies_with_links_df['keywords'] = movies_with_links_df['keywords'].apply(lambda x: ' '.join(x) if isinstance(x, list) else '').fillna('')\n",
    "\n",
    "movies_with_links_df['mega_soup'] = (\n",
    "    movies_with_links_df['genres'] + ' ' +\n",
    "    movies_with_links_df['tag'] + ' ' +\n",
    "    movies_with_links_df['director'] + ' ' +\n",
    "    movies_with_links_df['cast'] + ' ' +\n",
    "    movies_with_links_df['keywords']\n",
    ")\n",
    "\n",
    "# Budowa modelu (TF-IDF i macierz podobieństw)\n",
    "tfidf_mega = TfidfVectorizer(stop_words='english')\n",
    "tfidf_mega_matrix = tfidf_mega.fit_transform(movies_with_links_df['mega_soup'])\n",
    "\n",
    "content_similarity_matrix = cosine_similarity(tfidf_mega_matrix)\n",
    "content_similar_movies_df = pd.DataFrame(content_similarity_matrix, \n",
    "                                           index=movies_with_links_df['title'], \n",
    "                                           columns=movies_with_links_df['title'])\n",
    "\n",
    "print(\"Zaawansowany model oparty na treści został zbudowany.\")"
   ]
  },
  {
   "cell_type": "markdown",
   "id": "cef9db53",
   "metadata": {},
   "source": [
    "## 4. Przykładowe rekomendacje i porównanie modeli\n",
    "\n",
    "Poniżej przedstawiono funkcję do generowania rekomendacji oraz przykładowe wyniki dla filmu \"Forrest Gump (1994)\" z obu zaimplementowanych modeli.<br>\n",
    "W odróżnieniu od modelu kolaboracyjnego, w tym podejściu celowo **nie stosujemy progu popularności**. Model oparty na treści analizuje wewnętrzne cechy filmów, co pozwala na generowanie rekomendacji również dla mniej znanych, niszowych tytułów. Dzięki temu system jest w stanie polecić \"ukryte perełki\", a nie tylko popularne hity, bazując wyłącznie na podobieństwie ich \"DNA\" (gatunków, tagów, obsady, etc.)."
   ]
  },
  {
   "cell_type": "code",
   "execution_count": 11,
   "id": "daa64932",
   "metadata": {},
   "outputs": [
    {
     "name": "stdout",
     "output_type": "stream",
     "text": [
      "--- Rekomendacje z filtrowania kolaboracyjnego dla 'Forrest Gump (1994)' ---\n",
      "title\n",
      "Shawshank Redemption, The (1994)     0.712993\n",
      "Jurassic Park (1993)                 0.688259\n",
      "Pulp Fiction (1994)                  0.685544\n",
      "Braveheart (1995)                    0.643090\n",
      "Silence of the Lambs, The (1991)     0.639463\n",
      "Apollo 13 (1995)                     0.627559\n",
      "Matrix, The (1999)                   0.609935\n",
      "Mrs. Doubtfire (1993)                0.607983\n",
      "Schindler's List (1993)              0.602072\n",
      "Terminator 2: Judgment Day (1991)    0.600886\n",
      "Name: Forrest Gump (1994), dtype: float64\n",
      "\n",
      "--- Rekomendacje z filtrowania opartego na treści dla 'Forrest Gump (1994)' ---\n",
      "title\n",
      "Coming Home (1978)                   0.194713\n",
      "Uncommon Valor (1983)                0.190192\n",
      "Born on the Fourth of July (1989)    0.180068\n",
      "Short Term 12 (2013)                 0.178913\n",
      "Deer Hunter, The (1978)              0.162669\n",
      "Gardens of Stone (1987)              0.155064\n",
      "More American Graffiti (1979)        0.132295\n",
      "Being There (1979)                   0.125525\n",
      "Bat*21 (1988)                        0.121356\n",
      "Stop-Loss (2008)                     0.119219\n",
      "Name: Forrest Gump (1994), dtype: float64\n"
     ]
    }
   ],
   "source": [
    "def get_similar_movies(movie_title, similarity_df, n=10):\n",
    "    \"\"\"\n",
    "    Zwraca listę n najbardziej podobnych filmów do podanego.\n",
    "    \"\"\"\n",
    "    if movie_title not in similarity_df.index:\n",
    "        return f\"Film '{movie_title}' nie został znaleziony w bazie popularnych filmów.\"\n",
    "\n",
    "    similar_scores = similarity_df[movie_title].sort_values(ascending=False)\n",
    "    top_similar_movies = similar_scores.iloc[1:n+1]\n",
    "\n",
    "    return top_similar_movies\n",
    "\n",
    "print(\"--- Rekomendacje z filtrowania kolaboracyjnego dla 'Forrest Gump (1994)' ---\")\n",
    "print(get_similar_movies('Forrest Gump (1994)', collaborative_similar_movies_df, n=10))\n",
    "\n",
    "print(\"\\n--- Rekomendacje z filtrowania opartego na treści dla 'Forrest Gump (1994)' ---\")\n",
    "print(get_similar_movies('Forrest Gump (1994)', content_similar_movies_df, n=10))"
   ]
  },
  {
   "cell_type": "markdown",
   "id": "862a0d6e",
   "metadata": {},
   "source": [
    "**Wnioski z porównania:**\n",
    "* **Filtrowanie kolaboracyjne** poleca filmy, które są ogólnie popularnymi hitami i były wysoko oceniane przez tych samych użytkowników, co \"Forrest Gump\". Są to filmy takie jak \"Pulp Fiction\" czy \"Shawshank Redemption\" – wielkie, docenione produkcje z podobnego okresu.\n",
    "* **Filtrowanie oparte na treści** (nawet bez danych z API) znajduje filmy o podobnej tematyce (wojenne, dramaty), jak \"Platoon\" czy \"Apocalypse Now\", które mogą nie być tak oczywistym wyborem, ale mają wspólne \"DNA\" fabularne.\n",
    "* Po wzbogaceniu o dane z API, model oparty na treści staje się jeszcze bardziej precyzyjny, potencjalnie uwzględniając filmy tego samego reżysera (Roberta Zemeckisa) czy z podobnymi aktorami.\n",
    "\n",
    "Oba podejścia mają swoje zalety i mogą służyć różnym celom w komercyjnym systemie rekomendacyjnym."
   ]
  },
  {
   "cell_type": "markdown",
   "id": "fff1b3b9",
   "metadata": {},
   "source": [
    "## 5. Wdrożenie wyników w chmurze MongoDB\n",
    "\n",
    "Ostatnim etapem projektu jest zapisanie przetworzonych wyników w chmurowej bazie danych NoSQL – MongoDB Atlas. Pozwala to na ich szybkie odpytywanie przez potencjalną aplikację bez konieczności ponownego uruchamiania całego modelu."
   ]
  },
  {
   "cell_type": "code",
   "execution_count": 12,
   "id": "a3151454",
   "metadata": {},
   "outputs": [
    {
     "name": "stdout",
     "output_type": "stream",
     "text": [
      "Połączono z MongoDB Atlas. Rozpoczynam zapisywanie rekomendacji...\n",
      "Zakończono! Zapisano rekomendacje dla 9737 filmów.\n"
     ]
    }
   ],
   "source": [
    "connection_string = os.getenv('DB_STRING')\n",
    "\n",
    "try:\n",
    "    client = MongoClient(connection_string)\n",
    "    db = client['RecommendationDB']\n",
    "    collection = db['MovieRecommendations']\n",
    "    collection.delete_many({}) \n",
    "\n",
    "    print(\"Połączono z MongoDB Atlas. Rozpoczynam zapisywanie rekomendacji...\")\n",
    "\n",
    "    for movie_title in content_similar_movies_df.index:\n",
    "        recommendations = get_similar_movies(movie_title, content_similar_movies_df, n=10)\n",
    "        \n",
    "        item_to_save = {\n",
    "            'movie_title': movie_title,\n",
    "            'recommendations_type': 'content_based_advanced',\n",
    "            'recommendations': list(recommendations.index)\n",
    "        }\n",
    "        collection.replace_one({'movie_title': movie_title}, item_to_save, upsert=True)\n",
    "\n",
    "    print(f\"Zakończono! Zapisano rekomendacje dla {len(content_similar_movies_df.index)} filmów.\")\n",
    "    client.close()\n",
    "except Exception as e:\n",
    "    print(f\"Wystąpił błąd podczas połączenia lub zapisu do MongoDB: {e}\")"
   ]
  },
  {
   "cell_type": "markdown",
   "id": "6ea2e355",
   "metadata": {},
   "source": [
    "## 6. Podsumowanie projektu\n",
    "\n",
    "W ramach niniejszego projektu z sukcesem zrealizowano wszystkie założone cele. Stworzono i porównano dwa różne typy systemów rekomendacji filmów. Zaawansowany model oparty na treści został dodatkowo wzbogacony o dane z zewnętrznego źródła, co znacząco podniosło jego potencjalną jakość. Finalne wyniki zostały zapisane w skalowalnej, chmurowej bazie danych NoSQL, co stanowi dowód na kompletne przeprowadzenie procesu od danych surowych do gotowego do użycia produktu.\n",
    "\n",
    "Projekt ten demonstruje praktyczne zastosowanie kluczowych technik z zakresu analizy danych, uczenia maszynowego i inżynierii danych."
   ]
  }
 ],
 "metadata": {
  "kernelspec": {
   "display_name": "Python 3 (ipykernel)",
   "language": "python",
   "name": "python3"
  },
  "language_info": {
   "codemirror_mode": {
    "name": "ipython",
    "version": 3
   },
   "file_extension": ".py",
   "mimetype": "text/x-python",
   "name": "python",
   "nbconvert_exporter": "python",
   "pygments_lexer": "ipython3",
   "version": "3.11.7"
  }
 },
 "nbformat": 4,
 "nbformat_minor": 5
}
